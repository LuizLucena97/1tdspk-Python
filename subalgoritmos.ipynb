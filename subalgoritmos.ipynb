{
 "cells": [
  {
   "attachments": {},
   "cell_type": "markdown",
   "metadata": {},
   "source": [
    "## Apresentando o Jupyter\n",
    "\n",
    "**Markdown** <br>\n",
    "Utilizo este recurso para comentar e apresentar a aplicação <br>\n",
    "\n",
    "**Apresentando código**\n",
    "``` \n",
    "def soma(n1: float, n2: float) -> float:\n",
    "    return n1 + n2\n",
    "```\n",
    "\n",
    "**Apresentando código Python**\n",
    "```python \n",
    "def soma(n1: float, n2: float) -> float:\n",
    "    return n1 + n2\n",
    "```"
   ]
  },
  {
   "cell_type": "code",
   "execution_count": 5,
   "metadata": {},
   "outputs": [
    {
     "name": "stdout",
     "output_type": "stream",
     "text": [
      "Somatoria = 112\n"
     ]
    }
   ],
   "source": [
    "def soma(n1: float, n2: float) -> float:\n",
    "    return n1 + n2\n",
    "\n"
   ]
  },
  {
   "attachments": {},
   "cell_type": "markdown",
   "metadata": {},
   "source": [
    "Criando uma função que calcula a média"
   ]
  },
  {
   "cell_type": "code",
   "execution_count": 6,
   "metadata": {},
   "outputs": [
    {
     "name": "stdout",
     "output_type": "stream",
     "text": [
      "Media = 56.0\n"
     ]
    }
   ],
   "source": [
    "def media(n1: float, n2: float) -> float:\n",
    "    return (n1 + n2) / 2\n",
    "\n"
   ]
  },
  {
   "attachments": {},
   "cell_type": "markdown",
   "metadata": {},
   "source": [
    "## Parametros Default\n",
    "Utilizamos este tipo de parâmetro quando podemos utilizar um valor padrão nos subalgoritmos.\n",
    "<br>\n",
    "**Sintaxe:**\n",
    "```\n",
    "def nome_subalgoritmo(parametro = valor) -> tipo_retono:\n",
    "    corpo_do_subalgoritmo\n",
    "    return valor_retornado\n",
    "```\n",
    "**Exemplo:** Este subalgoritmo exibe uma saudação para uma pessoa"
   ]
  },
  {
   "cell_type": "code",
   "execution_count": 18,
   "metadata": {},
   "outputs": [
    {
     "name": "stdout",
     "output_type": "stream",
     "text": [
      "Boa tarde Edson!\n",
      "Bom dia Usuario!\n",
      "Bom tarde Usuario!\n",
      "Bom dia maria!\n"
     ]
    }
   ],
   "source": [
    "def saudacao(msg: str = \"Bom dia\", nome: str = \"Usuario\") -> None:\n",
    "    print(f\"{msg} {nome}!\")\n",
    "          \n",
    "saudacao(\"Boa tarde\", \"Edson\")\n",
    "saudacao()\n",
    "saudacao(\"Bom tarde\")\n",
    "saudacao(nome = \"maria\")\n",
    "\n"
   ]
  },
  {
   "attachments": {},
   "cell_type": "markdown",
   "metadata": {},
   "source": [
    "**Exercício**\n",
    "1. Considere que um procedimento passe como parâmetro o nome de um paciente e o horário de atendimento. Por padrão, o nome é 'Paciente' e o horário padrão é 8h. Construa um procedimento que atenda a esta necessidade.\n",
    "2. Uma função verifica qual o maior entre 3 numeros passados por parâmetro. Sonsidere o padrão: 1, 2 e 3 e verifique qual o maior valor"
   ]
  },
  {
   "cell_type": "code",
   "execution_count": 20,
   "metadata": {},
   "outputs": [
    {
     "name": "stdout",
     "output_type": "stream",
     "text": [
      "Olá Edson, o seu atendimento será às 14 horas!\n",
      "Olá Paciente, o seu atendimento será às 8 horas!\n",
      "8\n",
      "3\n",
      "67\n"
     ]
    }
   ],
   "source": [
    "# Exercício 1\n",
    "def atendimento(nome: str = \"Paciente\", hora: int = 8) -> None:\n",
    "    print(f\"Olá {nome}, o seu atendimento será às {hora} horas!\")\n",
    "\n",
    "atendimento(\"Edson\", 14)\n",
    "atendimento()\n",
    "\n",
    "# Exercicio 2\n",
    "def maior3n(n1: int = 1, n2: int = 2, n3: int = 3) -> int:\n",
    "    maior = n1\n",
    "    if n2 > maior:\n",
    "        maior = n2\n",
    "    if n3 > maior:\n",
    "        maior = n3\n",
    "    return maior\n",
    "\n",
    "print (f\"{maior3n(4,8,5)}\")\n",
    "print (f\"{maior3n()}\")\n",
    "print (f\"{maior3n(n2 = 67)}\")"
   ]
  },
  {
   "attachments": {},
   "cell_type": "markdown",
   "metadata": {},
   "source": [
    "## Parâmetros do tipo *args\n",
    "Utilizamos este tipo de parâmetro quando a quantidade de parametros é indefinida. <br>\n",
    "Vejam a problemática:"
   ]
  },
  {
   "cell_type": "code",
   "execution_count": 23,
   "metadata": {},
   "outputs": [
    {
     "name": "stdout",
     "output_type": "stream",
     "text": [
      "12\n",
      "21\n",
      "113\n",
      "58\n"
     ]
    }
   ],
   "source": [
    "def soma_numeros(*args) -> float:\n",
    "    soma = 0\n",
    "    for valor in args:\n",
    "        soma = soma + valor\n",
    "    return soma\n",
    "\n",
    "print(soma_numeros(5,7))\n",
    "print(soma_numeros(5,7,9))\n",
    "print(soma_numeros(34,67,5,7))\n",
    "print(soma_numeros(5,7,6,7,3,4,5,6,7,8))"
   ]
  },
  {
   "attachments": {},
   "cell_type": "markdown",
   "metadata": {},
   "source": [
    "Exercício: Utilizando *args, crie uma função que calcule a media de diversos numeros."
   ]
  },
  {
   "cell_type": "code",
   "execution_count": 26,
   "metadata": {},
   "outputs": [
    {
     "name": "stdout",
     "output_type": "stream",
     "text": [
      "6.0\n",
      "7.0\n",
      "28.25\n",
      "5.8\n"
     ]
    }
   ],
   "source": [
    "def media_numeros(*args) -> float:\n",
    "    soma = 0\n",
    "    qtd = 0\n",
    "    for valor in args:\n",
    "        soma = soma + valor\n",
    "        qtd += 1\n",
    "    return soma / qtd\n",
    "\n",
    "print(media_numeros(5,7))\n",
    "print(media_numeros(5,7,9))\n",
    "print(media_numeros(34,67,5,7))\n",
    "print(media_numeros(5,7,6,7,3,4,5,6,7,8))"
   ]
  },
  {
   "attachments": {},
   "cell_type": "markdown",
   "metadata": {},
   "source": [
    "## Subalgoritmo encadeado\n",
    "Utilizamos este tipo de subalgoritmo quando um precisa de outro para resolver um problema menor."
   ]
  },
  {
   "cell_type": "code",
   "execution_count": 27,
   "metadata": {},
   "outputs": [
    {
     "name": "stdout",
     "output_type": "stream",
     "text": [
      "5.5\n"
     ]
    }
   ],
   "source": [
    "# Escopo da função primaria\n",
    "def media_checkpoints(n1: float, n2: float, n3: float) -> float:\n",
    "\n",
    "    # Escopo da função secundaria\n",
    "    def menor_valor(n1: float, n2: float, n3: float) -> float:\n",
    "        # Corpo da função secundaria\n",
    "        menor = n1\n",
    "        if n2 < menor:\n",
    "            menor = n2\n",
    "        if n3 < menor:\n",
    "            menor = n3\n",
    "        return menor\n",
    "    \n",
    "    # corpo da função primaria\n",
    "    media = (n1 + n2 + n3 - menor_valor(n1, n2, n3)) / 2\n",
    "    return media\n",
    "\n",
    "#chamada da função\n",
    "print(media_checkpoints(4,5,6))"
   ]
  },
  {
   "attachments": {},
   "cell_type": "markdown",
   "metadata": {},
   "source": [
    "Exercicio: Calcule a media de 3 notas utilizando o recurso de subalgoritmo encadeado"
   ]
  },
  {
   "attachments": {},
   "cell_type": "markdown",
   "metadata": {},
   "source": [
    "### Programa principal"
   ]
  },
  {
   "cell_type": "code",
   "execution_count": 7,
   "metadata": {},
   "outputs": [
    {
     "name": "stdout",
     "output_type": "stream",
     "text": [
      "Somatoria = 112\n",
      "Media = 56.0\n"
     ]
    }
   ],
   "source": [
    "print(f\"Somatoria = {soma(45,67)}\")\n",
    "print(f\"Media = {media(45,67)}\")"
   ]
  }
 ],
 "metadata": {
  "kernelspec": {
   "display_name": "Python 3",
   "language": "python",
   "name": "python3"
  },
  "language_info": {
   "codemirror_mode": {
    "name": "ipython",
    "version": 3
   },
   "file_extension": ".py",
   "mimetype": "text/x-python",
   "name": "python",
   "nbconvert_exporter": "python",
   "pygments_lexer": "ipython3",
   "version": "3.11.4"
  },
  "orig_nbformat": 4
 },
 "nbformat": 4,
 "nbformat_minor": 2
}
